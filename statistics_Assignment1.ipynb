{
 "cells": [
  {
   "cell_type": "code",
   "execution_count": 2,
   "id": "c94c22d3",
   "metadata": {},
   "outputs": [],
   "source": [
    "#1.Explain the properties of the F-distribution.\n",
    "\n",
    "#Ans>>\n",
    "#The F-distribution is a continuous probability distribution that arises in the testing of whether two population variances are equal. It is skewed to the right, and it only takes positive values. The distribution depends on two degrees of freedom: one for the numerator and one for the denominator. As the degrees of freedom increase, the distribution becomes less skewed and approaches a normal distribution."
   ]
  },
  {
   "cell_type": "code",
   "execution_count": 3,
   "id": "025f890f",
   "metadata": {},
   "outputs": [],
   "source": [
    "#Q2. In which types of statistical tests is the F-distribution used, and why is it appropriate for these tests?\n",
    "\n",
    "#Ans>>\n",
    "#The F-distribution is used in ANOVA (Analysis of Variance) and F-tests. It is appropriate for these tests because they compare the ratio of two variances (e.g., between groups in ANOVA or across different models in regression analysis). Since variances are always positive, the F-distribution, which also only takes positive values, is ideal for these types of tests."
   ]
  },
  {
   "cell_type": "code",
   "execution_count": 4,
   "id": "594f85a3",
   "metadata": {},
   "outputs": [],
   "source": [
    "#Q3.What are the key assumptions required for conducting an F-test to compare the variances of two populations?\n",
    "\n",
    "#Ans>>\n",
    "#The key assumptions for an F-test are:\n",
    "\n",
    "#(i)The populations from which the samples are drawn should be normally distributed.\n",
    "\n",
    "#(ii)The samples should be independent of each other.\n",
    "\n",
    "#(iii)The variances being compared must be from populations with the same variance.\n",
    "\n",
    "#(iv)The sample data must come from random sampling."
   ]
  },
  {
   "cell_type": "code",
   "execution_count": 5,
   "id": "99a393b0",
   "metadata": {},
   "outputs": [],
   "source": [
    "#Q4.What is the purpose of ANOVA, and how does it differ from a t-test?\n",
    "\n",
    "#Ans>>\n",
    "#The purpose of ANOVA is to determine whether there are statistically significant differences between the means of three or more groups. It does this by comparing the variance within groups to the variance between groups. In contrast, a t-test compares the means of only two groups. ANOVA avoids the increased risk of Type I error that occurs when multiple t-tests are used to compare more than two groups.\n"
   ]
  },
  {
   "cell_type": "code",
   "execution_count": 6,
   "id": "aa6dc7b5",
   "metadata": {},
   "outputs": [],
   "source": [
    "#Q5.Explain when and why you would use a one-way ANOVA instead of multiple t-tests when comparing more than two groups.\n",
    "\n",
    "#Ans>>\n",
    "#A one-way ANOVA is used when comparing the means of three or more groups to determine if at least one of the group means is different from the others. It is preferable to using multiple t-tests because doing multiple tests increases the chance of making a Type I error (incorrectly rejecting the null hypothesis). ANOVA controls this error rate by performing a single test.\n"
   ]
  },
  {
   "cell_type": "code",
   "execution_count": 7,
   "id": "26b368cd",
   "metadata": {},
   "outputs": [],
   "source": [
    "#Q6.Explain how variance is partitioned in ANOVA into between-group variance and within-group variance. How does this partitioning contribute to the calculation of the F-statistic?\n",
    "\n",
    "#Ans>>\n",
    "#In ANOVA, the total variance is partitioned into two parts:\n",
    "#Between-group variance: Measures how much the group means differ from the overall mean.\n",
    "#Within-group variance: Measures the variability within each group (how much individual observations differ from their group mean). The F-statistic is calculated as the ratio of the between-group variance to the within-group variance. A large F-statistic indicates that the between-group variance is large relative to the within-group variance, suggesting that at least one group mean is different.\n"
   ]
  },
  {
   "cell_type": "code",
   "execution_count": 8,
   "id": "3eed5a57",
   "metadata": {},
   "outputs": [],
   "source": [
    "#Q7.Compare the classical (frequentist) approach to ANOVA with the Bayesian approach. What are the key differences in terms of how they handle uncertainty, parameter estimation, and hypothesis testing?\n",
    "\n",
    "#Ans>>\n",
    "#The classical (frequentist) approach to ANOVA relies on the use of p-values to determine whether to reject the null hypothesis, with results dependent on sample data. The uncertainty is handled by considering only the data at hand, and parameters are estimated as fixed values.\n",
    "#The Bayesian approach, on the other hand, incorporates prior knowledge or beliefs about the parameters in the form of a prior distribution and updates this with the sample data to form a posterior distribution. In this framework, parameters are treated as random variables, and uncertainty is quantified by the posterior probability distribution. Bayesian ANOVA allows for direct probability statements about parameters and hypothesis testing."
   ]
  },
  {
   "cell_type": "code",
   "execution_count": 9,
   "id": "42f0554f",
   "metadata": {},
   "outputs": [],
   "source": [
    "#Q8.Perform an F-test using Python to determine if the variances of the two professions' incomes are equal.\n",
    "\n",
    "#The provided data are:\n",
    "\n",
    "#Profession A: [48, 52, 55, 60, 62]\n",
    "\n",
    "#Profession B: [45, 50, 55, 52, 47]\n",
    "\n",
    "#The task is to calculate the F-statistic and the p-value for this data using Python."
   ]
  },
  {
   "cell_type": "code",
   "execution_count": 10,
   "id": "35dc6ca5",
   "metadata": {},
   "outputs": [],
   "source": [
    "import numpy as np\n",
    "from scipy.stats import stats"
   ]
  },
  {
   "cell_type": "code",
   "execution_count": 11,
   "id": "3f52f3c5",
   "metadata": {},
   "outputs": [],
   "source": [
    "# code>>\n",
    "Profession_A = [48, 52, 55, 60, 62]\n",
    "Profession_B = [45, 50, 55, 52, 47]"
   ]
  },
  {
   "cell_type": "code",
   "execution_count": 12,
   "id": "64b4c961",
   "metadata": {},
   "outputs": [],
   "source": [
    "# null hypothesis : There is a statistically significant difference in the variances\n",
    "# alternate hypothesis : There is no statistically significant difference in the variances"
   ]
  },
  {
   "cell_type": "code",
   "execution_count": 13,
   "id": "bf665329",
   "metadata": {},
   "outputs": [
    {
     "name": "stderr",
     "output_type": "stream",
     "text": [
      "C:\\Users\\prem\\AppData\\Local\\Temp\\ipykernel_17264\\2715338288.py:1: DeprecationWarning: Please use `f_oneway` from the `scipy.stats` namespace, the `scipy.stats.stats` namespace is deprecated.\n",
      "  fstat, Pvalue = stats.f_oneway(Profession_A,Profession_B)\n"
     ]
    }
   ],
   "source": [
    "fstat, Pvalue = stats.f_oneway(Profession_A,Profession_B)"
   ]
  },
  {
   "cell_type": "code",
   "execution_count": 14,
   "id": "2af2f7ce",
   "metadata": {},
   "outputs": [
    {
     "data": {
      "text/plain": [
       "(3.232989690721649, 0.10987970118946545)"
      ]
     },
     "execution_count": 14,
     "metadata": {},
     "output_type": "execute_result"
    }
   ],
   "source": [
    "fstat,Pvalue"
   ]
  },
  {
   "cell_type": "code",
   "execution_count": 15,
   "id": "69e738ca",
   "metadata": {},
   "outputs": [],
   "source": [
    "alpha = 0.05"
   ]
  },
  {
   "cell_type": "code",
   "execution_count": 16,
   "id": "7a34b1a5",
   "metadata": {},
   "outputs": [
    {
     "name": "stdout",
     "output_type": "stream",
     "text": [
      "We fail to reject the null hypothesis. There is no statistically significant difference in the variances.\n"
     ]
    }
   ],
   "source": [
    "# Significance level\n",
    "alpha = 0.05\n",
    "\n",
    "if Pvalue < alpha:\n",
    "    print(\"We reject the null hypothesis. There is a statistically significant difference in the variances.\")\n",
    "else:\n",
    "    print(\"We fail to reject the null hypothesis. There is no statistically significant difference in the variances.\")\n"
   ]
  },
  {
   "cell_type": "code",
   "execution_count": 17,
   "id": "21864347",
   "metadata": {},
   "outputs": [],
   "source": [
    "#9. Question: Conduct a one-way ANOVA to test whether there are any statistically significant differences in\n",
    "#average heights between three different regions with the following data:\n",
    "\n",
    "#Region A: [160, 162, 165, 158, 164]\n",
    "\n",
    "#Region B: [172, 175, 170, 168, 174]\n",
    "\n",
    "#Region C: [180, 182, 179, 185, 183]\n",
    "\n",
    "#Task: Write Python code to perform the one-way ANOVA and interpret the results\n",
    "\n",
    "#Objective: Learn how to perform one-way ANOVA using Python and interpret F-statistic and p-value"
   ]
  },
  {
   "cell_type": "code",
   "execution_count": 18,
   "id": "960b1022",
   "metadata": {},
   "outputs": [],
   "source": [
    "Region_A = [160, 162, 165, 158, 164]\n",
    "Region_B = [172, 175, 170, 168, 174]\n",
    "Region_C = [180, 182, 179, 185, 183]"
   ]
  },
  {
   "cell_type": "code",
   "execution_count": 19,
   "id": "004c7669",
   "metadata": {},
   "outputs": [],
   "source": [
    "# null hypothesis : Thera are statistically significant differences in the average heights between the three regions.\n",
    "# Alternate hypothesis : There are no statistically significant differences in the average heights between the three regions"
   ]
  },
  {
   "cell_type": "code",
   "execution_count": 20,
   "id": "a14769d2",
   "metadata": {},
   "outputs": [
    {
     "name": "stderr",
     "output_type": "stream",
     "text": [
      "C:\\Users\\prem\\AppData\\Local\\Temp\\ipykernel_17264\\2322366933.py:1: DeprecationWarning: Please use `f_oneway` from the `scipy.stats` namespace, the `scipy.stats.stats` namespace is deprecated.\n",
      "  f_statistics, p_value = stats.f_oneway(Region_A,Region_B,Region_C)\n"
     ]
    }
   ],
   "source": [
    "f_statistics, p_value = stats.f_oneway(Region_A,Region_B,Region_C)"
   ]
  },
  {
   "cell_type": "code",
   "execution_count": 21,
   "id": "d6a97c6a",
   "metadata": {},
   "outputs": [
    {
     "data": {
      "text/plain": [
       "(67.87330316742101, 2.870664187937026e-07)"
      ]
     },
     "execution_count": 21,
     "metadata": {},
     "output_type": "execute_result"
    }
   ],
   "source": [
    "f_statistics,p_value"
   ]
  },
  {
   "cell_type": "code",
   "execution_count": 22,
   "id": "66df7698",
   "metadata": {},
   "outputs": [
    {
     "name": "stdout",
     "output_type": "stream",
     "text": [
      "The p-value is smaller than 0.05, so we reject the null hypothesis. This indicates statistically significant differences in the average heights between the three regions.\n"
     ]
    }
   ],
   "source": [
    "# Significance level\n",
    "alpha = 0.05\n",
    "\n",
    "if p_value < alpha:\n",
    "    print(\"The p-value is smaller than 0.05, so we reject the null hypothesis. This indicates statistically significant differences in the average heights between the three regions.\")\n",
    "else:\n",
    "    print(\"The p-value is not smaller than 0.05, so we fail to reject the null hypothesis. This indicates no statistically significant differences in the average heights between the three regions.\")\n"
   ]
  },
  {
   "cell_type": "code",
   "execution_count": null,
   "id": "23e1aa06",
   "metadata": {},
   "outputs": [],
   "source": []
  }
 ],
 "metadata": {
  "kernelspec": {
   "display_name": "Python 3 (ipykernel)",
   "language": "python",
   "name": "python3"
  },
  "language_info": {
   "codemirror_mode": {
    "name": "ipython",
    "version": 3
   },
   "file_extension": ".py",
   "mimetype": "text/x-python",
   "name": "python",
   "nbconvert_exporter": "python",
   "pygments_lexer": "ipython3",
   "version": "3.11.5"
  }
 },
 "nbformat": 4,
 "nbformat_minor": 5
}
